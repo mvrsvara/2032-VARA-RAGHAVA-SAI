{
 "cells": [
  {
   "cell_type": "code",
   "execution_count": 3,
   "metadata": {},
   "outputs": [
    {
     "name": "stdout",
     "output_type": "stream",
     "text": [
      "enter val1:4\n",
      "enter val2:6\n",
      "enter operatorf\n",
      "enter valid operator\n"
     ]
    }
   ],
   "source": [
    "#1.Write a python program to design simple calculator for the operators \n",
    "a=int(input('enter val1:'))\n",
    "b=int(input('enter val2:'))\n",
    "op=input('enter operator')\n",
    "if op == '+':\n",
    "    print(a+b)\n",
    "elif op == '-':\n",
    "    print(a-b)\n",
    "elif op == '*':\n",
    "    print(a*b)\n",
    "elif op == '/':\n",
    "    print(a/b)\n",
    "elif op == '%':\n",
    "    print(a%b)\n",
    "elif op == '**':\n",
    "    print(a**b)\n",
    "elif op == '//':\n",
    "    print(a//b)\n",
    "else:\n",
    "    print('enter valid operator')\n",
    "    "
   ]
  },
  {
   "cell_type": "code",
   "execution_count": 8,
   "metadata": {},
   "outputs": [
    {
     "name": "stdout",
     "output_type": "stream",
     "text": [
      "enter principle:1000\n",
      "enter time:2\n",
      "enter rate:4.5\n",
      "simple interest: 90.0\n"
     ]
    }
   ],
   "source": [
    "#2.Write a python program to calculate simple interest.\n",
    "p=int(input('enter principle:'))\n",
    "t=int(input('enter time:'))\n",
    "r=float(input('enter rate:'))\n",
    "si=((p*t*r)/100)\n",
    "print('simple interest:',si)"
   ]
  },
  {
   "cell_type": "code",
   "execution_count": 7,
   "metadata": {},
   "outputs": [
    {
     "name": "stdout",
     "output_type": "stream",
     "text": [
      "enter radius:4\n",
      "Area of circle: 50.24 cm\n"
     ]
    }
   ],
   "source": [
    "#3.Write a python program to calculate area of a circle.\n",
    "r=int(input('enter radius:'))\n",
    "pi=3.14\n",
    "print('Area of circle:',(pi*r**2))"
   ]
  },
  {
   "cell_type": "code",
   "execution_count": 9,
   "metadata": {},
   "outputs": [
    {
     "name": "stdout",
     "output_type": "stream",
     "text": [
      "enter base:2\n",
      "enter height:5\n",
      "Area of triangle 5.0\n"
     ]
    }
   ],
   "source": [
    "#4.Write a python program to calculate area of a triangle.\n",
    "b=int(input('enter base:'))\n",
    "h=int(input('enter height:'))\n",
    "print('Area of triangle',0.5*b*h)"
   ]
  },
  {
   "cell_type": "code",
   "execution_count": 12,
   "metadata": {},
   "outputs": [
    {
     "name": "stdout",
     "output_type": "stream",
     "text": [
      "enter the temparature in celsius:32\n",
      "temparuture in fahrenheit= 89.6 F\n"
     ]
    }
   ],
   "source": [
    "#5.Write a python program to temperature in Celsius to Fahrenheit.\n",
    "c=int(input('enter temparature in celsius:'))\n",
    "print('temparuture in fahrenheit=',((c*9/5)+32),'F')"
   ]
  },
  {
   "cell_type": "code",
   "execution_count": 13,
   "metadata": {},
   "outputs": [
    {
     "name": "stdout",
     "output_type": "stream",
     "text": [
      "enter the length:2\n",
      "enter the breath:6\n",
      "Area of rectangle= 12\n"
     ]
    }
   ],
   "source": [
    "#6.Write a python program to calculate area of rectangle.\n",
    "l=int(input('enter length:'))\n",
    "b=int(input('enter breath:'))\n",
    "print('Area of rectangle=', l*b)"
   ]
  },
  {
   "cell_type": "code",
   "execution_count": 14,
   "metadata": {},
   "outputs": [
    {
     "name": "stdout",
     "output_type": "stream",
     "text": [
      "enter side:3\n",
      "Perimeter of square: 12\n"
     ]
    }
   ],
   "source": [
    "#7.Write a python program to calculate perimeter of a square.\n",
    "s=int(input('enter side:'))\n",
    "print('Perimeter of square:',4*s)"
   ]
  },
  {
   "cell_type": "code",
   "execution_count": 15,
   "metadata": {},
   "outputs": [
    {
     "name": "stdout",
     "output_type": "stream",
     "text": [
      "enter radius:3\n",
      "Circumference of circle: 18.84\n"
     ]
    }
   ],
   "source": [
    "#8.Write a python program to calculate circumference of a circle.\n",
    "r=int(input('enter radius:'))\n",
    "pi=3.14\n",
    "print('Circumference of circle:',2*pi*r)"
   ]
  },
  {
   "cell_type": "code",
   "execution_count": 17,
   "metadata": {},
   "outputs": [
    {
     "name": "stdout",
     "output_type": "stream",
     "text": [
      "enter val1:2\n",
      "enter val2:3\n",
      "Before swapping a= 2 b= 3\n",
      "After swapping a= 3 b= 2\n"
     ]
    }
   ],
   "source": [
    "#9.Write a python program to swap two numbers.\n",
    "a=int(input('enter val1:'))\n",
    "b=int(input('enter val2:'))\n",
    "print('Before swapping a=',a,'b=',b)\n",
    "a=a+b\n",
    "b=a-b\n",
    "a=a-b\n",
    "print('After swapping a=',a,'b=',b)"
   ]
  },
  {
   "cell_type": "code",
   "execution_count": 18,
   "metadata": {},
   "outputs": [
    {
     "name": "stdout",
     "output_type": "stream",
     "text": [
      "enter val1:2\n",
      "enter val2:3\n",
      "Before swapping a= 2 b= 3\n",
      "After swapping a= 3 b= 2\n"
     ]
    }
   ],
   "source": [
    "#9.Write a python program to swap two numbers.\n",
    "a=int(input('enter val1:'))\n",
    "b=int(input('enter val2:'))\n",
    "print('Before swapping a=',a,'b=',b)\n",
    "c=a\n",
    "a=b\n",
    "b=c\n",
    "print('After swapping a=',a,'b=',b)"
   ]
  },
  {
   "cell_type": "code",
   "execution_count": null,
   "metadata": {},
   "outputs": [],
   "source": []
  }
 ],
 "metadata": {
  "kernelspec": {
   "display_name": "Python 3",
   "language": "python",
   "name": "python3"
  },
  "language_info": {
   "codemirror_mode": {
    "name": "ipython",
    "version": 3
   },
   "file_extension": ".py",
   "mimetype": "text/x-python",
   "name": "python",
   "nbconvert_exporter": "python",
   "pygments_lexer": "ipython3",
   "version": "3.8.3"
  }
 },
 "nbformat": 4,
 "nbformat_minor": 4
}
