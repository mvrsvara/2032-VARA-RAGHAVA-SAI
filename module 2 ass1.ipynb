{
 "cells": [
  {
   "cell_type": "markdown",
   "metadata": {},
   "source": [
    "### 1.Take two inputs and check whether they are equal or not"
   ]
  },
  {
   "cell_type": "code",
   "execution_count": 2,
   "metadata": {},
   "outputs": [
    {
     "name": "stdout",
     "output_type": "stream",
     "text": [
      "Enter 1st no:2\n",
      "Enter 2nd no:2\n",
      "Both nos are equal\n"
     ]
    }
   ],
   "source": [
    "a = int(input(\"Enter 1st no:\"))\n",
    "b = int(input(\"Enter 2nd no:\"))\n",
    "if a == b:\n",
    "    print (\"Both nos are equal\")\n",
    "else:\n",
    "    print (\"Both nos are not equal\")"
   ]
  },
  {
   "cell_type": "markdown",
   "metadata": {},
   "source": [
    "### 2.Take 3 inputs from user and check:all are equal any of two are not equal(use or or)"
   ]
  },
  {
   "cell_type": "code",
   "execution_count": 7,
   "metadata": {},
   "outputs": [
    {
     "name": "stdout",
     "output_type": "stream",
     "text": [
      "enter 1st no:3\n",
      "enter 2nd no:5\n",
      "enter 3rd no:5\n",
      "any of two nos are equal\n"
     ]
    }
   ],
   "source": [
    "num1=int(input(\"enter 1st no:\"))\n",
    "num2=int(input(\"enter 2nd no:\"))\n",
    "num3=int(input(\"enter 3rd no:\"))\n",
    "if num1==num2==num3:\n",
    "    print(\"all are equal\")\n",
    "elif num1==num2 or num2==num3 or num3==num1:\n",
    "    print(\"any of two nos are equal\")"
   ]
  },
  {
   "cell_type": "markdown",
   "metadata": {},
   "source": [
    "### 3.Check whether the sum is greater than 5,less than 5 or equal to 5."
   ]
  },
  {
   "cell_type": "code",
   "execution_count": 10,
   "metadata": {},
   "outputs": [
    {
     "name": "stdout",
     "output_type": "stream",
     "text": [
      "Enter 1st no:1\n",
      "Enter 2nd no:2\n",
      "lesser than 5\n"
     ]
    }
   ],
   "source": [
    "a = int(input(\"Enter 1st no:\"))\n",
    "b = int(input(\"Enter 2nd no:\"))\n",
    "if a+b == 5:\n",
    "    print(\"equal to 5\")\n",
    "elif a+b > 5:\n",
    "    print(\"greater than 5\")\n",
    "else :\n",
    "    print(\"lesser than 5\")"
   ]
  },
  {
   "cell_type": "markdown",
   "metadata": {},
   "source": [
    "### 4.Suppose passing marks of a student is 35.Take two input of marks from user and check whether it is greatest than passing marks or not."
   ]
  },
  {
   "cell_type": "code",
   "execution_count": 16,
   "metadata": {},
   "outputs": [
    {
     "name": "stdout",
     "output_type": "stream",
     "text": [
      "enter marks:23\n",
      "marks is lesser than passing marks\n",
      "enter marks:48\n",
      "Marks is greater than passing marks\n"
     ]
    }
   ],
   "source": [
    "def marks(a):\n",
    "    if a == 35:\n",
    "        print(\"marks is equal to pass marks\")\n",
    "    elif a>35:\n",
    "        print (\"Marks is greater than passing marks\")\n",
    "    else:\n",
    "        print(\"marks is lesser than passing marks\")\n",
    "marks1 = int(input(\"enter marks:\"))\n",
    "marks(marks1)\n",
    "marks2 = int(input(\"enter marks:\"))\n",
    "marks(marks2)"
   ]
  },
  {
   "cell_type": "markdown",
   "metadata": {},
   "source": [
    "### 5.Write a Python function to find the max of three numbers."
   ]
  },
  {
   "cell_type": "code",
   "execution_count": 18,
   "metadata": {},
   "outputs": [
    {
     "name": "stdout",
     "output_type": "stream",
     "text": [
      "enter 1st no:2\n",
      "enter 2nd no:9\n",
      "enter 3rd no:3\n",
      "maximum: 9\n"
     ]
    }
   ],
   "source": [
    "def maximum(a,b,c):\n",
    "    return max(a,b,c)\n",
    "num1=int(input(\"enter 1st no:\"))\n",
    "num2=int(input(\"enter 2nd no:\"))\n",
    "num3=int(input(\"enter 3rd no:\"))\n",
    "print(\"maximum:\",maximum(num1,num2,num3))"
   ]
  },
  {
   "cell_type": "code",
   "execution_count": null,
   "metadata": {},
   "outputs": [],
   "source": []
  }
 ],
 "metadata": {
  "kernelspec": {
   "display_name": "Python 3",
   "language": "python",
   "name": "python3"
  },
  "language_info": {
   "codemirror_mode": {
    "name": "ipython",
    "version": 3
   },
   "file_extension": ".py",
   "mimetype": "text/x-python",
   "name": "python",
   "nbconvert_exporter": "python",
   "pygments_lexer": "ipython3",
   "version": "3.8.3"
  }
 },
 "nbformat": 4,
 "nbformat_minor": 4
}
